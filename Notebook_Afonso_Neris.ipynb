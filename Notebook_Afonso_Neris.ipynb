{
  "nbformat": 4,
  "nbformat_minor": 0,
  "metadata": {
    "colab": {
      "provenance": [],
      "collapsed_sections": [],
      "toc_visible": true
    },
    "kernelspec": {
      "name": "python3",
      "display_name": "Python 3"
    }
  },
  "cells": [
    {
      "cell_type": "markdown",
      "metadata": {
        "id": "KJqp9AANOCtf"
      },
      "source": [
        "<img src=\"https://raw.githubusercontent.com/andre-marcos-perez/ebac-course-utils/main/media/logo/newebac_logo_black_half.png\" alt=\"ebac-logo\">\n",
        "\n",
        "---\n",
        "\n",
        "# **Módulo** | Análise de Dados: COVID-19 Dashboard\n",
        "Caderno de **Exercícios**<br><br>\n",
        "Professor [André Perez](https://www.linkedin.com/in/andremarcosperez/)<br>\n",
        "Aluno [Afonso Neris](https://www.linkedin.com/in/afonsoneris/)<br>\n",
        "\n",
        "---"
      ]
    },
    {
      "cell_type": "markdown",
      "metadata": {
        "id": "QRcqbpLpFK5o"
      },
      "source": [
        "# **COVID Dashboard**"
      ]
    },
    {
      "cell_type": "markdown",
      "source": [
        "## 0\\. TLDR"
      ],
      "metadata": {
        "id": "ojvj-CXQKG3y"
      }
    },
    {
      "cell_type": "markdown",
      "source": [
        " - **Dashboard**: \n",
        "  - Google Data Studio ([link](https://datastudio.google.com/reporting/3cdcfc46-8412-4e6c-8c15-e577f3b1896c)).\n",
        " - **Processamento**:\n",
        "  - Kaggle Notebook ([link](https://www.kaggle.com/code/afonsoneris/covid-dashboard)). \n",
        " - **Fontes**: \n",
        "  - Corona Virus Brasil ([link](https://covid.saude.gov.br/) ([link](https://covid19.who.int/data));"
      ],
      "metadata": {
        "id": "SJbmsLj8Jwoe"
      }
    },
    {
      "cell_type": "markdown",
      "metadata": {
        "id": "6-CvdKwqFPiW"
      },
      "source": [
        "## 1\\. Contexto"
      ]
    },
    {
      "cell_type": "markdown",
      "metadata": {
        "id": "XRURE1uUFXGw"
      },
      "source": [
        "A Covid-19, doença causada pelo coronavírus denominado SARS-CoV-2, foi identificada pela primeira vez na China, em dezembro de 2019.¹ Em 30 de janeiro de 2020, a Organização Mundial da Saúde (OMS) declarou que a epidemia da COVID-19 constituía uma Emergência de Saúde Pública de Importância Internacional (ESPII),² e, em 11 de março de 2020, uma pandemia."
      ]
    },
    {
      "cell_type": "markdown",
      "metadata": {
        "id": "QxukLHaqFnkU"
      },
      "source": [
        "## 2\\. Pacotes e bibliotecas"
      ]
    },
    {
      "cell_type": "code",
      "source": [
        "!pip install unidecode"
      ],
      "metadata": {
        "colab": {
          "base_uri": "https://localhost:8080/"
        },
        "id": "I2yzdmNus777",
        "outputId": "c77b3bde-f92a-4c22-c729-724de2ab85e4"
      },
      "execution_count": 2,
      "outputs": [
        {
          "output_type": "stream",
          "name": "stdout",
          "text": [
            "Looking in indexes: https://pypi.org/simple, https://us-python.pkg.dev/colab-wheels/public/simple/\n",
            "Collecting unidecode\n",
            "  Downloading Unidecode-1.3.6-py3-none-any.whl (235 kB)\n",
            "\u001b[K     |████████████████████████████████| 235 kB 4.4 MB/s \n",
            "\u001b[?25hInstalling collected packages: unidecode\n",
            "Successfully installed unidecode-1.3.6\n"
          ]
        }
      ]
    },
    {
      "cell_type": "code",
      "metadata": {
        "id": "VXUEW0VrF7XW",
        "colab": {
          "base_uri": "https://localhost:8080/",
          "height": 356
        },
        "outputId": "72b03c00-831b-406a-80dc-bbd91b07150d"
      },
      "source": [
        "#Bibliotecas de Terceiros\n",
        "import pandas as pd\n",
        "from datetime import date\n",
        "from unidecode import unidecode"
      ],
      "execution_count": 1,
      "outputs": [
        {
          "output_type": "error",
          "ename": "ModuleNotFoundError",
          "evalue": "ignored",
          "traceback": [
            "\u001b[0;31m---------------------------------------------------------------------------\u001b[0m",
            "\u001b[0;31mModuleNotFoundError\u001b[0m                       Traceback (most recent call last)",
            "\u001b[0;32m<ipython-input-1-78b4ab8bfa47>\u001b[0m in \u001b[0;36m<module>\u001b[0;34m\u001b[0m\n\u001b[1;32m      2\u001b[0m \u001b[0;32mimport\u001b[0m \u001b[0mpandas\u001b[0m \u001b[0;32mas\u001b[0m \u001b[0mpd\u001b[0m\u001b[0;34m\u001b[0m\u001b[0;34m\u001b[0m\u001b[0m\n\u001b[1;32m      3\u001b[0m \u001b[0;32mfrom\u001b[0m \u001b[0mdatetime\u001b[0m \u001b[0;32mimport\u001b[0m \u001b[0mdate\u001b[0m\u001b[0;34m\u001b[0m\u001b[0;34m\u001b[0m\u001b[0m\n\u001b[0;32m----> 4\u001b[0;31m \u001b[0;32mfrom\u001b[0m \u001b[0munidecode\u001b[0m \u001b[0;32mimport\u001b[0m \u001b[0munidecode\u001b[0m\u001b[0;34m\u001b[0m\u001b[0;34m\u001b[0m\u001b[0m\n\u001b[0m",
            "\u001b[0;31mModuleNotFoundError\u001b[0m: No module named 'unidecode'",
            "",
            "\u001b[0;31m---------------------------------------------------------------------------\u001b[0;32m\nNOTE: If your import is failing due to a missing package, you can\nmanually install dependencies using either !pip or !apt.\n\nTo view examples of installing some common dependencies, click the\n\"Open Examples\" button below.\n\u001b[0;31m---------------------------------------------------------------------------\u001b[0m\n"
          ],
          "errorDetails": {
            "actions": [
              {
                "action": "open_url",
                "actionText": "Open Examples",
                "url": "/notebooks/snippets/importing_libraries.ipynb"
              }
            ]
          }
        }
      ]
    },
    {
      "cell_type": "markdown",
      "metadata": {
        "id": "irQxHW1zGkdZ"
      },
      "source": [
        "## 3\\. Extração"
      ]
    },
    {
      "cell_type": "markdown",
      "source": [
        "Os dados usados para a análise foram retirados do site oficial do Governo Federal [Corona Virus Brasil](https://covid.saude.gov.br/).\n",
        "\n",
        "O arquivo CSV filtrado está disponibilizado no link do github. Por se tratar de uma planilha de todos o país contendo mais de cinco milhões de linhas, disponibilizei os dados prontos para agilizar o entendimento desse artigo.\n",
        "\n",
        "\n",
        ">* [Dados Brutos](https://github.com/afneris1/covid-19/tree/main/dataset/dados-brutos)\n",
        "* [Dados Filtrados](https://github.com/afneris1/covid-19/tree/main/dataset/dados-filtrados)"
      ],
      "metadata": {
        "id": "pP2AJEgISbVS"
      }
    },
    {
      "cell_type": "code",
      "source": [
        "#Download dos arquivos CSV\n",
        "!wget https://github.com/afneris1/covid-19/raw/main/dataset/dados-brutos/HIST_PAINEL_COVIDBR_2020_Parte1_04nov2022.csv\n",
        "!wget https://github.com/afneris1/covid-19/raw/main/dataset/dados-brutos/HIST_PAINEL_COVIDBR_2020_Parte2_04nov2022.csv\n",
        "\n",
        "!wget https://github.com/afneris1/covid-19/raw/main/dataset/dados-brutos/HIST_PAINEL_COVIDBR_2021_Parte1_04nov2022.csv\n",
        "!wget https://github.com/afneris1/covid-19/raw/main/dataset/dados-brutos/HIST_PAINEL_COVIDBR_2021_Parte2_04nov2022.csv\n",
        "\n",
        "!wget https://github.com/afneris1/covid-19/raw/main/dataset/dados-brutos/HIST_PAINEL_COVIDBR_2022_Parte1_04nov2022.csv\n",
        "!wget https://github.com/afneris1/covid-19/raw/main/dataset/dados-brutos/HIST_PAINEL_COVIDBR_2022_Parte2_04nov2022.csv"
      ],
      "metadata": {
        "id": "BAhLiFqKg95E"
      },
      "execution_count": null,
      "outputs": []
    },
    {
      "cell_type": "code",
      "source": [
        "#Criando Dataframe\n",
        "covid_2022_p1_df = pd.read_csv('HIST_PAINEL_COVIDBR_2022_Parte1_04nov2022.csv',sep=';',on_bad_lines='skip')\n",
        "covid_2022_p2_df = pd.read_csv('HIST_PAINEL_COVIDBR_2022_Parte2_04nov2022.csv',sep=';',on_bad_lines='skip')\n",
        "covid_2021_p1_df = pd.read_csv('HIST_PAINEL_COVIDBR_2021_Parte1_04nov2022.csv',sep=';',on_bad_lines='skip')\n",
        "covid_2021_p2_df = pd.read_csv('HIST_PAINEL_COVIDBR_2021_Parte2_04nov2022.csv',sep=';',on_bad_lines='skip')\n",
        "covid_2020_p1_df = pd.read_csv('HIST_PAINEL_COVIDBR_2020_Parte1_04nov2022.csv',sep=';',on_bad_lines='skip')\n",
        "covid_2020_p2_df = pd.read_csv('HIST_PAINEL_COVIDBR_2020_Parte2_04nov2022.csv',sep=';',on_bad_lines='skip')"
      ],
      "metadata": {
        "id": "F1A-e0LXtkJ3"
      },
      "execution_count": null,
      "outputs": []
    },
    {
      "cell_type": "code",
      "source": [
        "#Unindo Dataframe um abaixo do outro\n",
        "df = pd.concat([covid_2020_p1_df,covid_2020_p2_df,covid_2021_p1_df,covid_2021_p2_df,covid_2022_p1_df,covid_2022_p2_df])"
      ],
      "metadata": {
        "id": "VSGSO579uS5k"
      },
      "execution_count": null,
      "outputs": []
    },
    {
      "cell_type": "markdown",
      "metadata": {
        "id": "98hexQTyJS9I"
      },
      "source": [
        "## 4\\. Transformação"
      ]
    },
    {
      "cell_type": "markdown",
      "source": [
        "Devido ao tamanho dos arquivos, esse é um processo demorado pois algumas edições dos dados são feitas município por município."
      ],
      "metadata": {
        "id": "DM4nxiyuuZhE"
      }
    },
    {
      "cell_type": "code",
      "source": [
        "#Alterando sigla para nome do estado\n",
        "df.replace({\n",
        "    'AC': 'Acre',\n",
        "    'AL': 'Alagoas',\n",
        "    'AP': 'Amapá',\n",
        "    'AM': 'Amazonas',\n",
        "    'BA': 'Bahia',\n",
        "    'CE': 'Ceará',\n",
        "    'DF': 'Distrito Federal',\n",
        "    'ES': 'Espírito Santo',\n",
        "    'GO': 'Goiás',\n",
        "    'MA': 'Maranhão',\n",
        "    'MT': 'Mato Grosso',\n",
        "    'MS': 'Mato Grosso do Sul',\n",
        "    'MG': 'Minas Gerais',\n",
        "    'PA': 'Pará',\n",
        "    'PB': 'Paraíba',\n",
        "    'PR': 'Paraná',\n",
        "    'PE': 'Pernambuco',\n",
        "    'PI': 'Piauí',\n",
        "    'RJ': 'Rio de Janeiro',\n",
        "    'RN': 'Rio Grande do Norte',\n",
        "    'RS': 'Rio Grande do Sul',\n",
        "    'RO': 'Rondônia',\n",
        "    'RR': 'Roraima',\n",
        "    'SC': 'Santa Catarina',\n",
        "    'SP': 'São Paulo',\n",
        "    'SE': 'Sergipe',\n",
        "    'TO': 'Tocantins'\n",
        "},inplace=True)\n"
      ],
      "metadata": {
        "id": "aLyEME17uww4"
      },
      "execution_count": null,
      "outputs": []
    },
    {
      "cell_type": "code",
      "source": [
        "#Removendo linhas que contenha valor nulo na coluna município\n",
        "df = df.dropna(subset=['municipio']).reset_index()\n",
        "\n",
        "#Removendo colunas indesejadas\n",
        "df.drop(columns={'index','coduf','codmun','codRegiaoSaude','semanaEpi','interior/metropolitana','Recuperadosnovos','emAcompanhamentoNovos'},inplace=True)\n",
        "\n",
        "#Alterando Datetype\n",
        "df[['populacaoTCU2019','casosAcumulado']] = df[['populacaoTCU2019','casosAcumulado']].astype(int)\n",
        "df = df.astype({'data': 'datetime64[ns]'})\n",
        "\n",
        "#Criando Colunas\n",
        "df['rate_casos'] = (df['casosAcumulado'] / df ['populacaoTCU2019']).round(3)\n",
        "df['rate_mortes'] = (df['obitosAcumulado'] / df ['populacaoTCU2019']).round(3)\n",
        "\n",
        "#Removendo acentuação\n",
        "df['municipio'] = df['municipio'].apply(lambda x : unidecode(x))\n",
        "\n",
        "#Ordenando Dataframe\n",
        "df.sort_values(by=['municipio','data'],inplace=True)\n",
        "\n"
      ],
      "metadata": {
        "id": "SWiHTMvSu9yy"
      },
      "execution_count": null,
      "outputs": []
    },
    {
      "cell_type": "code",
      "source": [
        "#Criando Lista com nome dos municipios\n",
        "lista_municipio = list(df['municipio'].unique())\n",
        "covid_df = pd.DataFrame()\n",
        "\n",
        "for x in lista_municipio:\n",
        "  df1 = df[df['municipio'] == x]\n",
        "\n",
        "  #Criando Médias Móveis\n",
        "  df1['mm7_casosNovos'] = df1.casosNovos.rolling(7).mean().round(2)\n",
        "  df1['mm7_obitosNovos'] = df1.obitosNovos.rolling(7).mean().round(2)\n",
        "  df1['mm14_casosNovos'] = df1.casosNovos.rolling(14).mean().round(2)\n",
        "  df1['mm14_obitosNovos'] = df1.obitosNovos.rolling(14).mean().round(2)\n",
        "  df1['mm21_casosNovos'] = df1.casosNovos.rolling(21).mean().round(2)\n",
        "  df1['mm21_obitosNovos'] = df1.obitosNovos.rolling(21).mean().round(2)\n",
        "\n",
        "  #Criando coluna com tendencia \n",
        "  df1['tendencia'] = df1['casosAcumulado'].diff().round(2)\n",
        "\n",
        "  #Concatenando Dataframe\n",
        "  covid_df = pd.concat([covid_df,df1])"
      ],
      "metadata": {
        "id": "27LEkb6fwjka"
      },
      "execution_count": null,
      "outputs": []
    },
    {
      "cell_type": "markdown",
      "source": [
        "Devido a limitações da plataforma de criação de dashboard, decidimos separar por região e filtrar apena municípios com mais de 10mil habitantes."
      ],
      "metadata": {
        "id": "DoLjNC5CwyIS"
      }
    },
    {
      "cell_type": "code",
      "source": [
        "#Definindo Região\n",
        "centro_oeste_df = covid_df[covid_df['regiao']== 'Centro-Oeste']\n",
        "#Ordenando DataFrame\n",
        "centro_oeste_df.sort_values(by=['municipio','data'],inplace=True)\n",
        "#Filtrando municipios acima de 10 mil habitantes\n",
        "centro_oeste_df = centro_oeste_df[centro_oeste_df['populacaoTCU2019'] > 10000]\n",
        "\n",
        "#Definindo Região\n",
        "nordeste_df = covid_df[covid_df['regiao']== 'Nordeste']\n",
        "#Ordenando DataFrame\n",
        "nordeste_df.sort_values(by=['municipio','data'],inplace=True)\n",
        "#Filtrando municipios acima de 10 mil habitantes\n",
        "nordeste_df = nordeste_df[nordeste_df['populacaoTCU2019'] > 10000]\n",
        "\n",
        "#Definindo Região\n",
        "norte_df = covid_df[covid_df['regiao']== 'Norte']\n",
        "#Ordenando DataFrame\n",
        "norte_df.sort_values(by=['municipio','data'],inplace=True)\n",
        "#Filtrando municipios acima de 10 mil habitantes\n",
        "norte_df = norte_df[norte_df['populacaoTCU2019'] > 10000]\n",
        "\n",
        "#Definindo Região\n",
        "sudeste_df = covid_df[covid_df['regiao']== 'Sudeste']\n",
        "#Ordenando DataFrame\n",
        "sudeste_df.sort_values(by=['municipio','data'],inplace=True)\n",
        "#Filtrando municipios acima de 10 mil habitantes\n",
        "sudeste_df = sudeste_df[sudeste_df['populacaoTCU2019'] > 10000]\n",
        "\n",
        "#Definindo Região\n",
        "sul_df = covid_df[covid_df['regiao']== 'Sul']\n",
        "#Ordenando DataFrame\n",
        "sul_df.sort_values(by=['municipio','data'],inplace=True)\n",
        "#Filtrando municipios acima de 10 mil habitantes\n",
        "sul_df = sul_df[sul_df['populacaoTCU2019'] > 10000]"
      ],
      "metadata": {
        "id": "bE33O60awvbv"
      },
      "execution_count": null,
      "outputs": []
    },
    {
      "cell_type": "markdown",
      "metadata": {
        "id": "KSgjP--1JS9R"
      },
      "source": [
        "## 5\\. Carregamento\n",
        "\n",
        "\n",
        "\n"
      ]
    },
    {
      "cell_type": "markdown",
      "source": [
        "O output do notebook foi dividido em seis arquivos CSV:\n",
        " - covid.csv : Todas as regiões\n",
        " - centro_oeste.csv : Região Centro oeste\n",
        " - nordeste.csv : Região Norte\n",
        " - norte.csv : Região Norte\n",
        " - sudeste.csv : Região Sudeste\n",
        " - sul.csv : Região Sul"
      ],
      "metadata": {
        "id": "zTbv_XLSxpb5"
      }
    },
    {
      "cell_type": "code",
      "source": [
        "#Todo o Brasil\n",
        "covid_df.to_csv('covid.csv',sep=',',index=False)\n",
        "\n",
        "#Separado por regiões\n",
        "centro_oeste_df.to_csv('centro_oeste.csv',sep=',',index=False)\n",
        "nordeste_df.to_csv('nordeste.csv',sep=',',index=False)\n",
        "norte_df.to_csv('norte.csv',sep=',',index=False)\n",
        "sudeste_df.to_csv('sudeste.csv',sep=',',index=False)\n",
        "sul_df.to_csv('sul.csv',sep=',',index=False)"
      ],
      "metadata": {
        "id": "02MPA6jMwm0h"
      },
      "execution_count": null,
      "outputs": []
    },
    {
      "cell_type": "markdown",
      "source": [
        "## 6\\. Referências "
      ],
      "metadata": {
        "id": "PMgTF_lYPq9x"
      }
    },
    {
      "cell_type": "markdown",
      "source": [
        "1. Zhu N, Zhang D, Wang W, Li X, Yang B, Song J, et al. A novel coronavirus from patients with pneumonia in China, 2019. N Engl J Med [Internet]. 2020 Feb [cited 2020 Apr 7];382:727-33. Available from: http://doi.org/10.1056/NEJMoa2001017\n",
        "\n",
        "2. World Health Organization. Statement on the second meeting of the international health regulations (2005) emergency committee regarding the outbreak of novel coronavirus (2019-nCoV) [Internet]. Geneva: World Health Organization; 2020 [cited 2020 Apr 7]. Available from: https://www.who.int/news-room/detail/30-01-2020-statement-on-the-second-meeting-of-the-international-health-regulations-(2005)-emergency-committee-regarding-the-outbreak-of-novel-coronavirus-(2019-ncov) "
      ],
      "metadata": {
        "id": "sFSIRHb6PT3e"
      }
    }
  ]
}